{
  "nbformat": 4,
  "nbformat_minor": 0,
  "metadata": {
    "colab": {
      "name": "06-01_Fruit.ipynb",
      "private_outputs": true,
      "provenance": [],
      "collapsed_sections": [],
      "authorship_tag": "ABX9TyPWbe02J4WXrDn2NshfdInZ",
      "include_colab_link": true
    },
    "kernelspec": {
      "name": "python3",
      "display_name": "Python 3"
    },
    "language_info": {
      "name": "python"
    }
  },
  "cells": [
    {
      "cell_type": "markdown",
      "metadata": {
        "id": "view-in-github",
        "colab_type": "text"
      },
      "source": [
        "<a href=\"https://colab.research.google.com/github/kwarkmc/tensorflow_training/blob/main/06_01_Fruit.ipynb\" target=\"_parent\"><img src=\"https://colab.research.google.com/assets/colab-badge.svg\" alt=\"Open In Colab\"/></a>"
      ]
    },
    {
      "cell_type": "code",
      "metadata": {
        "id": "PmDoguRqc-_0"
      },
      "source": [
        "!wget https://bit.ly/fruits_300_data -O fruits_300.npy"
      ],
      "execution_count": null,
      "outputs": []
    },
    {
      "cell_type": "code",
      "metadata": {
        "id": "qc3sTEHmdV77"
      },
      "source": [
        "import numpy as np\n",
        "import matplotlib.pyplot as plt"
      ],
      "execution_count": null,
      "outputs": []
    },
    {
      "cell_type": "code",
      "metadata": {
        "id": "mEK82u7Ndcxf"
      },
      "source": [
        "fruits = np.load('fruits_300.npy')"
      ],
      "execution_count": null,
      "outputs": []
    },
    {
      "cell_type": "code",
      "metadata": {
        "id": "ybc_fLaCelm5"
      },
      "source": [
        "print(fruits.shape)"
      ],
      "execution_count": null,
      "outputs": []
    },
    {
      "cell_type": "code",
      "metadata": {
        "id": "qZCgywCIei87"
      },
      "source": [
        "print(fruits[0,0, :])"
      ],
      "execution_count": null,
      "outputs": []
    },
    {
      "cell_type": "code",
      "metadata": {
        "id": "rnE9W_ohePZA"
      },
      "source": [
        "plt.imshow(fruits[0], cmap='gray')\n",
        "plt.show()"
      ],
      "execution_count": null,
      "outputs": []
    },
    {
      "cell_type": "code",
      "metadata": {
        "id": "RkP1wyC2eN7y"
      },
      "source": [
        "plt.imshow(fruits[0], cmap='gray_r')\n",
        "plt.show()"
      ],
      "execution_count": null,
      "outputs": []
    },
    {
      "cell_type": "code",
      "metadata": {
        "id": "k8_A4cYbdvxM"
      },
      "source": [
        "fig, axs = plt.subplots(1, 2)\n",
        "axs[0].imshow(fruits[100], cmap='gray_r')\n",
        "axs[1].imshow(fruits[200], cmap='gray_r')\n",
        "plt.show()"
      ],
      "execution_count": null,
      "outputs": []
    },
    {
      "cell_type": "code",
      "metadata": {
        "id": "WK6-yyWPdg8D"
      },
      "source": [
        "apple = fruits[0:100].reshape(-1, 100*100)\n",
        "pineapple = fruits[100:200].reshape(-1, 100*100)\n",
        "banana = fruits[200:300].reshape(-1, 100*100)"
      ],
      "execution_count": null,
      "outputs": []
    },
    {
      "cell_type": "code",
      "metadata": {
        "id": "-V-QEsUggLXf"
      },
      "source": [
        "print(apple.shape)"
      ],
      "execution_count": null,
      "outputs": []
    },
    {
      "cell_type": "code",
      "metadata": {
        "id": "jAqGYhLDgNVb"
      },
      "source": [
        "print(apple.mean(axis=1))"
      ],
      "execution_count": null,
      "outputs": []
    },
    {
      "cell_type": "code",
      "metadata": {
        "id": "qLoFdZ4igZ1A"
      },
      "source": [
        "plt.hist(np.mean(apple, axis=1), alpha=0.8)\n",
        "plt.hist(np.mean(pineapple, axis=1), alpha=0.8)\n",
        "plt.hist(np.mean(banana, axis=1), alpha=0.8)"
      ],
      "execution_count": null,
      "outputs": []
    },
    {
      "cell_type": "code",
      "metadata": {
        "id": "OXwrDcQTguXl"
      },
      "source": [
        "fig, axs = plt.subplots(1, 3, figsize=(20,5))\n",
        "axs[0].bar(range(10000), np.mean(apple, axis=0))\n",
        "axs[1].bar(range(10000), np.mean(pineapple, axis=0))\n",
        "axs[2].bar(range(10000), np.mean(banana, axis=0))"
      ],
      "execution_count": null,
      "outputs": []
    },
    {
      "cell_type": "code",
      "metadata": {
        "id": "9YjOSn6ihGiz"
      },
      "source": [
        "apple_mean = np.mean(apple, axis=0).reshape(100,100)\n",
        "pineapple_mean = np.mean(pineapple, axis=0).reshape(100,100)\n",
        "banana_mean = np.mean(banana, axis=0).reshape(100,100)\n",
        "fig, axs = plt.subplots(1, 3, figsize=(20,5))\n",
        "axs[0].imshow(apple_mean, cmap='gray_r')\n",
        "axs[1].imshow(pineapple_mean, cmap='gray_r')\n",
        "axs[2].imshow(banana_mean, cmap='gray_r')\n",
        "plt.show()"
      ],
      "execution_count": null,
      "outputs": []
    },
    {
      "cell_type": "code",
      "metadata": {
        "id": "bXA3b3XHiB-n"
      },
      "source": [
        "abs_diff = np.abs(fruits - apple_mean)\n",
        "abs_mean = np.mean(abs_diff, axis = (1,2))\n",
        "print(abs_mean.shape)"
      ],
      "execution_count": null,
      "outputs": []
    },
    {
      "cell_type": "code",
      "metadata": {
        "id": "lcP_5pThikc8"
      },
      "source": [
        "apple_index = np.argsort(abs_mean)[:100]\n",
        "fig, axs = plt.subplots(10, 10, figsize=(10,10))\n",
        "for i in range(10):\n",
        "    for j in range(10):\n",
        "        axs[i, j].imshow(fruits[apple_index[i*10 + j]], cmap='gray_r')\n",
        "        axs[i, j].axis('off')\n",
        "plt.show()"
      ],
      "execution_count": null,
      "outputs": []
    },
    {
      "cell_type": "code",
      "metadata": {
        "id": "0Cyxs0ApjPSv"
      },
      "source": [
        ""
      ],
      "execution_count": null,
      "outputs": []
    }
  ]
}