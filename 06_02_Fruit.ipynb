{
  "nbformat": 4,
  "nbformat_minor": 0,
  "metadata": {
    "colab": {
      "name": "06-02_Fruit.ipynb",
      "private_outputs": true,
      "provenance": [],
      "collapsed_sections": [],
      "authorship_tag": "ABX9TyO4OVGGUBLcpI0ESz8IlfUf",
      "include_colab_link": true
    },
    "kernelspec": {
      "name": "python3",
      "display_name": "Python 3"
    },
    "language_info": {
      "name": "python"
    }
  },
  "cells": [
    {
      "cell_type": "markdown",
      "metadata": {
        "id": "view-in-github",
        "colab_type": "text"
      },
      "source": [
        "<a href=\"https://colab.research.google.com/github/kwarkmc/tensorflow_training/blob/main/06_02_Fruit.ipynb\" target=\"_parent\"><img src=\"https://colab.research.google.com/assets/colab-badge.svg\" alt=\"Open In Colab\"/></a>"
      ]
    },
    {
      "cell_type": "code",
      "metadata": {
        "id": "AAjbPO_0j4Rs"
      },
      "source": [
        "!wget https://bit.ly/fruits_300_data -O fruits_300.npy"
      ],
      "execution_count": null,
      "outputs": []
    },
    {
      "cell_type": "code",
      "metadata": {
        "id": "W3lp8bllkRu5"
      },
      "source": [
        "import numpy as np\n",
        "fruits = np.load('fruits_300.npy')\n",
        "fruits_2d = fruits.reshape(-1, 100*100)"
      ],
      "execution_count": null,
      "outputs": []
    },
    {
      "cell_type": "code",
      "metadata": {
        "id": "vOn58XGHkdEV"
      },
      "source": [
        "from sklearn.cluster import KMeans\n",
        "km = KMeans(n_clusters=3, random_state=42)\n",
        "km.fit(fruits_2d)"
      ],
      "execution_count": null,
      "outputs": []
    },
    {
      "cell_type": "code",
      "metadata": {
        "id": "SdQeU1Tek08j"
      },
      "source": [
        "print(km.labels_)"
      ],
      "execution_count": null,
      "outputs": []
    },
    {
      "cell_type": "code",
      "metadata": {
        "id": "125JinlulAwX"
      },
      "source": [
        "print(np.unique(km.labels_, return_counts=True))"
      ],
      "execution_count": null,
      "outputs": []
    },
    {
      "cell_type": "code",
      "metadata": {
        "id": "cCyruTVAlHh7"
      },
      "source": [
        "import matplotlib.pyplot as plt\n",
        "def draw_fruits(arr, ratio=1):\n",
        "    n = len(arr)\n",
        "    rows = int(np.ceil(n/10))\n",
        "    cols = n if rows < 2 else 10\n",
        "    fig, axs = plt.subplots(rows, cols, figsize=(cols*ratio, rows*ratio), squeeze=False)\n",
        "    for i in range(rows):\n",
        "        for j in range(cols):\n",
        "            if i*10 + j < n:\n",
        "                axs[i, j].imshow(arr[i*10 + j], cmap='gray_r')\n",
        "            axs[i, j].axis('off')\n",
        "    plt.show()"
      ],
      "execution_count": null,
      "outputs": []
    },
    {
      "cell_type": "code",
      "metadata": {
        "id": "uDY4EbVBmHGl"
      },
      "source": [
        "draw_fruits(fruits[km.labels_==0])"
      ],
      "execution_count": null,
      "outputs": []
    },
    {
      "cell_type": "code",
      "metadata": {
        "id": "CyScdC40mO4e"
      },
      "source": [
        "draw_fruits(fruits[km.labels_==1])"
      ],
      "execution_count": null,
      "outputs": []
    },
    {
      "cell_type": "code",
      "metadata": {
        "id": "nImorLHlmjSq"
      },
      "source": [
        "draw_fruits(fruits[km.labels_==2])"
      ],
      "execution_count": null,
      "outputs": []
    },
    {
      "cell_type": "code",
      "metadata": {
        "id": "kqtkw8mdmpOu"
      },
      "source": [
        "draw_fruits(km.cluster_centers_.reshape(-1, 100, 100), ratio=3)"
      ],
      "execution_count": null,
      "outputs": []
    },
    {
      "cell_type": "code",
      "metadata": {
        "id": "y3Ijce5Wm0Jl"
      },
      "source": [
        "print(km.transform(fruits_2d[100:101]))"
      ],
      "execution_count": null,
      "outputs": []
    },
    {
      "cell_type": "code",
      "metadata": {
        "id": "pfjWnn-jnLY4"
      },
      "source": [
        "print(km.predict(fruits_2d[100:101]))"
      ],
      "execution_count": null,
      "outputs": []
    },
    {
      "cell_type": "code",
      "metadata": {
        "id": "dmdYYMRAnXsY"
      },
      "source": [
        "draw_fruits(fruits[100:101])"
      ],
      "execution_count": null,
      "outputs": []
    },
    {
      "cell_type": "code",
      "metadata": {
        "id": "KnZHwJEtnb1Q"
      },
      "source": [
        "print(km.n_iter_)"
      ],
      "execution_count": null,
      "outputs": []
    },
    {
      "cell_type": "code",
      "metadata": {
        "id": "2qt6WtMZngaM"
      },
      "source": [
        "inertia = []\n",
        "for k in range(2, 7):\n",
        "    km = KMeans(n_clusters=k, random_state=42)\n",
        "    km.fit(fruits_2d)\n",
        "    inertia.append(km.inertia_)\n",
        "plt.plot(range(2, 7), inertia)\n",
        "plt.show()"
      ],
      "execution_count": null,
      "outputs": []
    },
    {
      "cell_type": "code",
      "metadata": {
        "id": "uSe004ZroF29"
      },
      "source": [
        ""
      ],
      "execution_count": null,
      "outputs": []
    }
  ]
}